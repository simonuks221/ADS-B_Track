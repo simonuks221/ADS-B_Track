{
 "cells": [
  {
   "cell_type": "code",
   "execution_count": null,
   "metadata": {},
   "outputs": [],
   "source": [
    "%matplotlib widget\n",
    "\n",
    "import os\n",
    "import matplotlib.pyplot as plt\n",
    "from Functions.signal_generator import *\n",
    "from Functions.utils import SAMPLE_ADSB_BYTES\n",
    "\n",
    "#Configuration\n",
    "amplitude = 1\n",
    "\n",
    "#Generate and plot simulated ADS-B\n",
    "ideal_signal, filtered_signal, noisy_signal = generate_ADSB(amplitude, SAMPLE_ADSB_BYTES)\n",
    "\n",
    "#Digitize signal\n",
    "digitized_signal, digitized_t = digitize_signal(noisy_signal, 100E6, 10E6, 1.4, 2**10)\n",
    "\n",
    "plt.stairs(digitized_signal, baseline=None)\n",
    "plt.xlabel('Sample')\n",
    "plt.ylabel('Value')\n",
    "plt.title('Digitized ADS-B signal')\n",
    "plt.show()\n",
    "\n",
    "#Write genrated data into two files:\n",
    "#1. Function generator format\n",
    "#2. LT spice voltage source simulator format\n",
    "directory = \"test_signals_generated\"\n",
    "function_generator_file_path = os.path.join(directory, \"testVoltage.txt\")\n",
    "lt_spice_simulator_file_path = os.path.join(directory, \"testVoltageLTspice.txt\")\n",
    "\n",
    "function_generator_file = open(function_generator_file_path, 'w')\n",
    "lt_spice_file = open(lt_spice_simulator_file_path, 'w')\n",
    "\n",
    "for i in range(len(digitized_signal)):\n",
    "    write_value = digitized_signal[i]\n",
    "    function_generator_file.write(str(int(write_value)) + '\\n')\n",
    "    lt_spice_file.write(\"{:.8f}\".format(i * 10E-8) + \" \" + str(write_value) + '\\n')\n",
    "\n",
    "function_generator_file.close()\n",
    "lt_spice_file.close()"
   ]
  }
 ],
 "metadata": {
  "kernelspec": {
   "display_name": "ADS_B_ENV",
   "language": "python",
   "name": "python3"
  },
  "language_info": {
   "codemirror_mode": {
    "name": "ipython",
    "version": 3
   },
   "file_extension": ".py",
   "mimetype": "text/x-python",
   "name": "python",
   "nbconvert_exporter": "python",
   "pygments_lexer": "ipython3",
   "version": "3.12.2"
  }
 },
 "nbformat": 4,
 "nbformat_minor": 2
}
