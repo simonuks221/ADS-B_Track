{
 "cells": [
  {
   "cell_type": "code",
   "execution_count": null,
   "metadata": {},
   "outputs": [],
   "source": [
    "%matplotlib widget\n",
    "import numpy as np\n",
    "import matplotlib.pyplot as plt\n",
    "from preambules_list import preambule_list, Preambule\n",
    "from Functions.approximations_list import Approximation\n",
    "from Functions.utils import calc_mse\n",
    "from Functions.approximations_list import ApproximationBase, ApproximationRestrictedLow\n",
    "import pickle\n",
    "\n",
    "stat_data = np.load('generators/generated/python_simulations.npz')\n",
    "\n",
    "loaded_test_amplitudes = stat_data['test_amplitudes']               #[amplitude step]\n",
    "loaded_all_energies = stat_data['all_energies']                     #[preamble, amplitude step, generations]\n",
    "loaded_all_points = stat_data['all_points']                         #[preamble, amplitude step, generations]\n",
    "loaded_mean_energies = stat_data['mean_energies']                   #[preamble, amplitude step]\n",
    "loaded_mean_points = stat_data['mean_points']                       #[preamble, amplitude step]\n",
    "loaded_lower_quantile_points = stat_data['lower_quantile_points']   #[preamble, amplitude step]\n",
    "loaded_higher_quantile_points = stat_data['higher_quantile_points'] #[preamble, amplitude step]"
   ]
  },
  {
   "cell_type": "code",
   "execution_count": null,
   "metadata": {},
   "outputs": [],
   "source": [
    "approximation_value_table = [\n",
    "    loaded_lower_quantile_points,\n",
    "    loaded_mean_points,\n",
    "    loaded_higher_quantile_points\n",
    "]\n",
    "\n",
    "all_approximations = [[] for _ in range(Preambule.Last.value)]\n",
    "# Add common approximations for all preamble types: low, high quantiles and mean points\n",
    "for preamble_i in range(Preambule.Last.value):\n",
    "    for approximation_i in range(Approximation.LastCommon.value):\n",
    "        approximation_values_x = loaded_mean_energies[preamble_i]\n",
    "        approximation_values_y = approximation_value_table[approximation_i][preamble_i]\n",
    "        basic_approximation = ApproximationBase(Preambule(preamble_i), Approximation(approximation_i), approximation_values_x, approximation_values_y)\n",
    "        all_approximations[preamble_i].append(basic_approximation)\n",
    "# Add custom approximations\n",
    "low_threshold = 1000\n",
    "all_approximations[Preambule.ExtendedNegative.value].append(ApproximationRestrictedLow(Preambule.ExtendedNegative,\n",
    "                                                                                       Approximation.RestrictedLow,\n",
    "                                                                                       loaded_mean_energies[Preambule.ExtendedNegative.value],\n",
    "                                                                                       approximation_value_table[Approximation.Mean.value][Preambule.ExtendedNegative.value],\n",
    "                                                                                       low_threshold))\n"
   ]
  },
  {
   "cell_type": "code",
   "execution_count": null,
   "metadata": {},
   "outputs": [],
   "source": [
    "# Polynomial fitting\n",
    "poly_degree = 2\n",
    "for preamble_approximations in all_approximations:\n",
    "    for approximation in preamble_approximations:\n",
    "        energy = approximation.input_x\n",
    "        points = approximation.input_y\n",
    "        poly_coeff = np.polyfit(energy, points, poly_degree)\n",
    "        approximation.coefficients = poly_coeff\n",
    "\n",
    "        approx_y = np.polyval(poly_coeff, energy)\n",
    "        mse = calc_mse(approx_y, points)\n",
    "        residuals = points - approx_y\n",
    "        # Plotting approxmation and real curves\n",
    "\n",
    "        plt.figure(figsize=(10,6))\n",
    "        plt.suptitle(\"Approximation of \" + preambule_list[approximation.preamble.value].get_name() + \" preamble with \"\n",
    "                    + approximation.get_name() + \" points\")\n",
    "        plt.subplot(121)\n",
    "        plt.plot(energy, points, label = \"Real\")\n",
    "        plt.plot(energy, approx_y, label = \"Approximation\")\n",
    "        plt.title(\"Approximation\")\n",
    "        plt.xlabel(\"Energy\")\n",
    "        plt.ylabel(\"Correlation amplitude\")\n",
    "        plt.legend()\n",
    "        plt.subplot(122)\n",
    "        plt.plot(energy, residuals)\n",
    "        plt.title(\"Residuals\")\n",
    "        plt.ylabel(\"Amplitude\")\n",
    "        plt.xlabel(\"Energy\")\n",
    "        plt.grid()\n",
    "        plt.tight_layout()\n",
    "        plt.show()\n",
    "\n",
    "        print(f\"MSE: {mse:.2f}\")\n",
    "\n",
    "with open('generators/generated/python_approximations.pkl', 'wb') as f:\n",
    "    pickle.dump(all_approximations, f)"
   ]
  }
 ],
 "metadata": {
  "kernelspec": {
   "display_name": "ADS_B_ENV",
   "language": "python",
   "name": "python3"
  },
  "language_info": {
   "codemirror_mode": {
    "name": "ipython",
    "version": 3
   },
   "file_extension": ".py",
   "mimetype": "text/x-python",
   "name": "python",
   "nbconvert_exporter": "python",
   "pygments_lexer": "ipython3",
   "version": "3.12.2"
  }
 },
 "nbformat": 4,
 "nbformat_minor": 2
}
